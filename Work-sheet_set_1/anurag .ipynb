{
 "cells": [
  {
   "cell_type": "markdown",
   "id": "b912e80c",
   "metadata": {},
   "source": [
    "# 11. Write a python program to find the factorial of a number"
   ]
  },
  {
   "cell_type": "code",
   "execution_count": null,
   "id": "75f35626",
   "metadata": {},
   "outputs": [],
   "source": [
    "fact = 1\n",
    "num = int (input(\"Enter the Number: \"))\n",
    "while num > 0:\n",
    "    fact = fact  * num\n",
    "    num = num - 1\n",
    "print (\"The factorial of \",num, \" is \",fact)\n"
   ]
  },
  {
   "cell_type": "markdown",
   "id": "ae3f4c87",
   "metadata": {},
   "source": [
    "# 12. Write a python program to find whether a number is prime or composite."
   ]
  },
  {
   "cell_type": "code",
   "execution_count": null,
   "id": "e1bbaed3",
   "metadata": {},
   "outputs": [],
   "source": [
    "num = int(input(\"enter any number : \"))\n",
    "if num > 1:\n",
    "    for i in range(2, num):\n",
    "        if num % i == 0:\n",
    "            print(num,\"is NOT a prime number\")\n",
    "            break\n",
    "    else:\n",
    "        print(num,\"is a PRIME number\")\n",
    "elif num == 0 or num == 1:\n",
    "    print(num,\"is NEITHER prime nor composite number.\")\n",
    "else:\n",
    "    print(num,\"is a PRIME number\")"
   ]
  },
  {
   "cell_type": "markdown",
   "id": "6f4c9a85",
   "metadata": {},
   "source": [
    "# 13. Write a python program to check whether a given string is palindrome or not."
   ]
  },
  {
   "cell_type": "code",
   "execution_count": null,
   "id": "67c62608",
   "metadata": {},
   "outputs": [],
   "source": [
    "s=input(\"Enter a string\")\n",
    "revstr=(s[::-1])\n",
    "if revstr==s:\n",
    "    print(\"palindrome\")\n",
    "else:\n",
    "    print(\"Not palindrome\")\n",
    "    "
   ]
  },
  {
   "cell_type": "markdown",
   "id": "912dd550",
   "metadata": {},
   "source": [
    "# 14. Write a Python program to get the third side of right-angled triangle from two given sides."
   ]
  },
  {
   "cell_type": "code",
   "execution_count": null,
   "id": "f523165c",
   "metadata": {},
   "outputs": [],
   "source": [
    "from math import sqrt\n",
    "print(\"Input length of shorter triangle side: \")\n",
    "a = float(input(\"Enter a: \"))\n",
    "b = float(input(\"Enter b:\"))\n",
    "c = sqrt(a*2 + b*2)\n",
    "print(\"the length of hypotenuse is:\", c)"
   ]
  },
  {
   "cell_type": "markdown",
   "id": "babc9132",
   "metadata": {},
   "source": [
    "# 15. Write a python program to print the frequency of each of the characters present in a given string."
   ]
  },
  {
   "cell_type": "code",
   "execution_count": null,
   "id": "8b2ccb94",
   "metadata": {},
   "outputs": [],
   "source": [
    "na=input(\"Enter any String \")\n",
    "ch = input(\"Enter search Character \")\n",
    "f = 0\n",
    "for i in na:\n",
    "    if i == ch:\n",
    "        f=f+1\n",
    "print(\"Number of time Found =\",f)"
   ]
  }
 ],
 "metadata": {
  "kernelspec": {
   "display_name": "Python 3",
   "language": "python",
   "name": "python3"
  },
  "language_info": {
   "codemirror_mode": {
    "name": "ipython",
    "version": 3
   },
   "file_extension": ".py",
   "mimetype": "text/x-python",
   "name": "python",
   "nbconvert_exporter": "python",
   "pygments_lexer": "ipython3",
   "version": "3.8.8"
  }
 },
 "nbformat": 4,
 "nbformat_minor": 5
}
